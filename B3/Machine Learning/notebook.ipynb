{
  "cells": [
    {
      "cell_type": "markdown",
      "source": "# Régression logistique",
      "metadata": {
        "tags": [],
        "cell_id": "00001-0e4044e9-5735-4689-9f2a-def86682f14c",
        "deepnote_cell_type": "text-cell-h1"
      }
    },
    {
      "cell_type": "markdown",
      "source": "https://deepnote.com/project/Regression-logistique-XycPIU99TPKjaVnBGcUrWw/%2Fnotebook.ipynb",
      "metadata": {
        "tags": [],
        "deepnote_cell_type": "text-cell-p"
      }
    },
    {
      "cell_type": "markdown",
      "source": "Présentation\n=\n \nLa régression logistique est un algorithmes d'apprentissage supervisé qui à une approche statistique mesurant la relation entre  \nla variable dépendante catégorielle et une ou plusieurs variables indépendantes en estimant les probabilités à l'aide d'une fonction logistique.  \nC'est néanmoins qu'un cas particulier de la classe modèle de régression dit de multiclasse  \ncar il y a des régressions logistiques qui gèrent des multiclasses. C'est pour ça que, dans le cas de deux classes, on parle de régression logistique binomiale\n",
      "metadata": {
        "tags": [],
        "cell_id": "00004-dfff44ee-1fdf-4f92-947d-e6fd2de5174d",
        "deepnote_cell_type": "markdown"
      }
    },
    {
      "cell_type": "markdown",
      "source": "Utilisation et dans quel domaine ?\n=\nElle peut être employée pour évaluer et caractériser les relations entre une variable réponse de type binaire  \n(par exemple : Vivant / Mort, Malade / Non malade, succès / échec)  \net une, ou plusieurs, variables explicatives qui peuvent être de type catégoriel (le sexe par exemple), ou numérique continu (l’âge par exemple)  \nCette méthode est utilisée dans le domaine médical, marketing quantitatif (achats ou non\nd'un produits ou services suite à une action), et les sciences sociales (divorces, chômages) et la finance (modelisation de risques).",
      "metadata": {
        "tags": [],
        "cell_id": "00002-bdf30662-296e-4fd2-81b9-0523539802da",
        "deepnote_cell_type": "markdown"
      }
    },
    {
      "cell_type": "markdown",
      "source": "Régression Linéaire vs Logistique\n=\n- La régression linéaire donne une sortie continue. c’est-à-dire toute valeur entre une plage de valeurs.  \nOn donne x à l'algorithme et lui essaie de trouvé y avec ce procéder nous somme en une dimension  \nx étant les données  \ny étant le label  \nl'algorithme doit prédire la courbe qui va passer au millieu des points\n- La régression logistique donne une sortie discrète. c’est-à-dire oui / non, 0/1 type de sortie.\n\n",
      "metadata": {
        "tags": [],
        "cell_id": "00003-14124562-2bc7-4ed1-8f41-cca00a05e453",
        "deepnote_cell_type": "markdown"
      }
    },
    {
      "cell_type": "markdown",
      "source": "![Picture title](image-20210412-143740.png)\nSource: https://datacadamia.com/data_mining/simple_logistic_regression",
      "metadata": {
        "tags": [],
        "cell_id": "00003-6f4fdc33-c0f0-4b11-93ee-fc6a5afff9a9",
        "deepnote_cell_type": "markdown"
      }
    },
    {
      "cell_type": "markdown",
      "source": "En régression linéaire, le résultat (variable dépendante) est continu. Il peut avoir un nombre infini de valeurs possibles.  \nEn régression logistique, le résultat (variable dépendante) n’a qu’un nombre limité de valeurs possibles.\n",
      "metadata": {
        "tags": [],
        "cell_id": "00005-e9f57b8b-3f4e-42b6-9db3-f3e5b51a585a",
        "deepnote_cell_type": "markdown"
      }
    },
    {
      "cell_type": "markdown",
      "source": "La Variable dépendante\n-\n- La régression logistique est utilisée lorsque la variable de réponse est de nature catégorique.  \nPar exemple, oui / non, vrai / faux, rouge / vert / bleu, 1er / 2ème / 3ème / 4ème, etc.  \n\n- La régression linéaire est utilisée lorsque votre variable de réponse est continue.  \nPar exemple, poids, taille, nombre d’heures, etc.\n\nConcerne tout les algorithmes donc modèle qui prend en entrée un certain nombre de variables pour générer en sortie les prédictions sur une variable quantitative continue.  \nCela s'oppose à la classification qui, elle, vise la prédiction de variable catégorielle. C'est donc comme déjà souligné un cas d'apprentissage supervisé. ",
      "metadata": {
        "tags": [],
        "cell_id": "00006-0a51be13-916b-40d5-9aa1-247575d5ebd6",
        "deepnote_cell_type": "markdown"
      }
    },
    {
      "cell_type": "markdown",
      "source": "Etude de cas\n=\nProbabilité de souscrire à une assurance en fonction de l'âge",
      "metadata": {
        "tags": [],
        "cell_id": "00006-99098996-bb75-4f1d-9f84-2b778c2d4db9",
        "deepnote_cell_type": "markdown"
      }
    },
    {
      "cell_type": "code",
      "metadata": {
        "tags": [],
        "cell_id": "00008-f5718f7f-eeef-45f6-b285-30c31f0e2a6f",
        "deepnote_to_be_reexecuted": false,
        "source_hash": "6795f379",
        "execution_millis": 1852,
        "output_cleared": false,
        "execution_start": 1618313832551,
        "deepnote_cell_type": "code"
      },
      "source": "import pandas as pd\nfrom matplotlib import pyplot as plt\n%matplotlib inline\n#Importe des librairies\ndf = pd.read_csv(\"insurance_data.csv\",sep=\";\")\ndf.head()\n#Importe csv dans le dataframe",
      "execution_count": 1,
      "outputs": [
        {
          "output_type": "execute_result",
          "execution_count": 1,
          "data": {
            "application/vnd.deepnote.dataframe.v2+json": {
              "row_count": 5,
              "column_count": 2,
              "columns": [
                {
                  "name": "age",
                  "dtype": "int64",
                  "stats": {
                    "unique_count": 5,
                    "nan_count": 0,
                    "min": "22",
                    "max": "52",
                    "histogram": [
                      {
                        "bin_start": 22,
                        "bin_end": 25,
                        "count": 1
                      },
                      {
                        "bin_start": 25,
                        "bin_end": 28,
                        "count": 1
                      },
                      {
                        "bin_start": 28,
                        "bin_end": 31,
                        "count": 0
                      },
                      {
                        "bin_start": 31,
                        "bin_end": 34,
                        "count": 0
                      },
                      {
                        "bin_start": 34,
                        "bin_end": 37,
                        "count": 0
                      },
                      {
                        "bin_start": 37,
                        "bin_end": 40,
                        "count": 0
                      },
                      {
                        "bin_start": 40,
                        "bin_end": 43,
                        "count": 0
                      },
                      {
                        "bin_start": 43,
                        "bin_end": 46,
                        "count": 0
                      },
                      {
                        "bin_start": 46,
                        "bin_end": 49,
                        "count": 2
                      },
                      {
                        "bin_start": 49,
                        "bin_end": 52,
                        "count": 1
                      }
                    ]
                  }
                },
                {
                  "name": "bought_insurance",
                  "dtype": "int64",
                  "stats": {
                    "unique_count": 2,
                    "nan_count": 0,
                    "min": "0",
                    "max": "1",
                    "histogram": [
                      {
                        "bin_start": 0,
                        "bin_end": 0.1,
                        "count": 3
                      },
                      {
                        "bin_start": 0.1,
                        "bin_end": 0.2,
                        "count": 0
                      },
                      {
                        "bin_start": 0.2,
                        "bin_end": 0.30000000000000004,
                        "count": 0
                      },
                      {
                        "bin_start": 0.30000000000000004,
                        "bin_end": 0.4,
                        "count": 0
                      },
                      {
                        "bin_start": 0.4,
                        "bin_end": 0.5,
                        "count": 0
                      },
                      {
                        "bin_start": 0.5,
                        "bin_end": 0.6000000000000001,
                        "count": 0
                      },
                      {
                        "bin_start": 0.6000000000000001,
                        "bin_end": 0.7000000000000001,
                        "count": 0
                      },
                      {
                        "bin_start": 0.7000000000000001,
                        "bin_end": 0.8,
                        "count": 0
                      },
                      {
                        "bin_start": 0.8,
                        "bin_end": 0.9,
                        "count": 0
                      },
                      {
                        "bin_start": 0.9,
                        "bin_end": 1,
                        "count": 2
                      }
                    ]
                  }
                },
                {
                  "name": "_deepnote_index_column",
                  "dtype": "int64"
                }
              ],
              "rows_top": [
                {
                  "age": 22,
                  "bought_insurance": 0,
                  "_deepnote_index_column": 0
                },
                {
                  "age": 25,
                  "bought_insurance": 0,
                  "_deepnote_index_column": 1
                },
                {
                  "age": 47,
                  "bought_insurance": 1,
                  "_deepnote_index_column": 2
                },
                {
                  "age": 52,
                  "bought_insurance": 0,
                  "_deepnote_index_column": 3
                },
                {
                  "age": 46,
                  "bought_insurance": 1,
                  "_deepnote_index_column": 4
                }
              ],
              "rows_bottom": null
            },
            "text/plain": "   age  bought_insurance\n0   22                 0\n1   25                 0\n2   47                 1\n3   52                 0\n4   46                 1",
            "text/html": "<div>\n<style scoped>\n    .dataframe tbody tr th:only-of-type {\n        vertical-align: middle;\n    }\n\n    .dataframe tbody tr th {\n        vertical-align: top;\n    }\n\n    .dataframe thead th {\n        text-align: right;\n    }\n</style>\n<table border=\"1\" class=\"dataframe\">\n  <thead>\n    <tr style=\"text-align: right;\">\n      <th></th>\n      <th>age</th>\n      <th>bought_insurance</th>\n    </tr>\n  </thead>\n  <tbody>\n    <tr>\n      <th>0</th>\n      <td>22</td>\n      <td>0</td>\n    </tr>\n    <tr>\n      <th>1</th>\n      <td>25</td>\n      <td>0</td>\n    </tr>\n    <tr>\n      <th>2</th>\n      <td>47</td>\n      <td>1</td>\n    </tr>\n    <tr>\n      <th>3</th>\n      <td>52</td>\n      <td>0</td>\n    </tr>\n    <tr>\n      <th>4</th>\n      <td>46</td>\n      <td>1</td>\n    </tr>\n  </tbody>\n</table>\n</div>"
          },
          "metadata": {}
        }
      ]
    },
    {
      "cell_type": "code",
      "metadata": {
        "tags": [],
        "cell_id": "00008-00ac84ab-be75-4f64-b250-0ecbcca492c4",
        "deepnote_to_be_reexecuted": false,
        "source_hash": "20c07ca9",
        "execution_millis": 373,
        "execution_start": 1618313834400,
        "deepnote_cell_type": "code"
      },
      "source": "plt.scatter(df.age,df.bought_insurance,marker='+',color='red')\n#On affiche la dispersion des données ",
      "execution_count": 2,
      "outputs": [
        {
          "output_type": "execute_result",
          "execution_count": 2,
          "data": {
            "text/plain": "<matplotlib.collections.PathCollection at 0x7faf971673d0>"
          },
          "metadata": {}
        },
        {
          "data": {
            "text/plain": "<Figure size 432x288 with 1 Axes>",
            "image/png": "[encoded data removed]"
          },
          "metadata": {
            "needs_background": "light"
          },
          "output_type": "display_data"
        }
      ]
    },
    {
      "cell_type": "code",
      "metadata": {
        "tags": [],
        "cell_id": "00009-6774a113-3bd1-4480-b94b-e57341ae8563",
        "deepnote_to_be_reexecuted": false,
        "source_hash": "54b3f60a",
        "execution_millis": 2122,
        "execution_start": 1618313834780,
        "deepnote_cell_type": "code"
      },
      "source": "from sklearn.model_selection import train_test_split\nX_train, X_test, y_train, y_test = train_test_split(df[['age']],df.bought_insurance,test_size=0.1)\nX_test\n#On sépare notre contenue pour l'apprentissage et pour faire des tests\n#90% des données sont utilisées pour l'apprentissage et 10% pour les tests ",
      "execution_count": 3,
      "outputs": [
        {
          "output_type": "execute_result",
          "execution_count": 3,
          "data": {
            "application/vnd.deepnote.dataframe.v2+json": {
              "row_count": 3,
              "column_count": 1,
              "columns": [
                {
                  "name": "age",
                  "dtype": "int64",
                  "stats": {
                    "unique_count": 3,
                    "nan_count": 0,
                    "min": "18",
                    "max": "55",
                    "histogram": [
                      {
                        "bin_start": 18,
                        "bin_end": 21.7,
                        "count": 1
                      },
                      {
                        "bin_start": 21.7,
                        "bin_end": 25.4,
                        "count": 0
                      },
                      {
                        "bin_start": 25.4,
                        "bin_end": 29.1,
                        "count": 1
                      },
                      {
                        "bin_start": 29.1,
                        "bin_end": 32.8,
                        "count": 0
                      },
                      {
                        "bin_start": 32.8,
                        "bin_end": 36.5,
                        "count": 0
                      },
                      {
                        "bin_start": 36.5,
                        "bin_end": 40.2,
                        "count": 0
                      },
                      {
                        "bin_start": 40.2,
                        "bin_end": 43.900000000000006,
                        "count": 0
                      },
                      {
                        "bin_start": 43.900000000000006,
                        "bin_end": 47.6,
                        "count": 0
                      },
                      {
                        "bin_start": 47.6,
                        "bin_end": 51.300000000000004,
                        "count": 0
                      },
                      {
                        "bin_start": 51.300000000000004,
                        "bin_end": 55,
                        "count": 1
                      }
                    ]
                  }
                },
                {
                  "name": "_deepnote_index_column",
                  "dtype": "int64"
                }
              ],
              "rows_top": [
                {
                  "age": 26,
                  "_deepnote_index_column": 21
                },
                {
                  "age": 18,
                  "_deepnote_index_column": 10
                },
                {
                  "age": 55,
                  "_deepnote_index_column": 15
                }
              ],
              "rows_bottom": null
            },
            "text/plain": "    age\n21   26\n10   18\n15   55",
            "text/html": "<div>\n<style scoped>\n    .dataframe tbody tr th:only-of-type {\n        vertical-align: middle;\n    }\n\n    .dataframe tbody tr th {\n        vertical-align: top;\n    }\n\n    .dataframe thead th {\n        text-align: right;\n    }\n</style>\n<table border=\"1\" class=\"dataframe\">\n  <thead>\n    <tr style=\"text-align: right;\">\n      <th></th>\n      <th>age</th>\n    </tr>\n  </thead>\n  <tbody>\n    <tr>\n      <th>21</th>\n      <td>26</td>\n    </tr>\n    <tr>\n      <th>10</th>\n      <td>18</td>\n    </tr>\n    <tr>\n      <th>15</th>\n      <td>55</td>\n    </tr>\n  </tbody>\n</table>\n</div>"
          },
          "metadata": {}
        }
      ]
    },
    {
      "cell_type": "code",
      "metadata": {
        "tags": [],
        "cell_id": "00010-51dd44e7-b734-4b7b-8b26-cbdaffd2d9b6",
        "deepnote_to_be_reexecuted": false,
        "source_hash": "af35732f",
        "execution_millis": 180,
        "execution_start": 1618313836905,
        "deepnote_cell_type": "code"
      },
      "source": "from sklearn.linear_model import LogisticRegression",
      "execution_count": 4,
      "outputs": []
    },
    {
      "cell_type": "code",
      "metadata": {
        "tags": [],
        "cell_id": "00012-e162f654-7963-48e9-a6c3-7bea1b00e731",
        "deepnote_to_be_reexecuted": false,
        "source_hash": "d3a9a9f0",
        "execution_millis": 1,
        "execution_start": 1618313837129,
        "deepnote_cell_type": "code"
      },
      "source": "model = LogisticRegression()",
      "execution_count": 5,
      "outputs": []
    },
    {
      "cell_type": "code",
      "metadata": {
        "tags": [],
        "cell_id": "00013-b3be142e-a4e7-4f69-9e80-5646601d7baa",
        "deepnote_to_be_reexecuted": false,
        "source_hash": "e1f2289d",
        "execution_millis": 50,
        "execution_start": 1618313837130,
        "deepnote_cell_type": "code"
      },
      "source": "model.fit(X_train,y_train)\n#Le model s'entraine afin de pouvoir faire des prédictions",
      "execution_count": 6,
      "outputs": [
        {
          "output_type": "execute_result",
          "execution_count": 6,
          "data": {
            "text/plain": "LogisticRegression()"
          },
          "metadata": {}
        }
      ]
    },
    {
      "cell_type": "code",
      "metadata": {
        "tags": [],
        "cell_id": "00014-b7b8e90f-a328-4a49-970b-afae2b935dbb",
        "deepnote_to_be_reexecuted": false,
        "source_hash": "2a470e1f",
        "execution_millis": 5,
        "execution_start": 1618313837175,
        "deepnote_cell_type": "code"
      },
      "source": "model.predict(X_test)\n#On essaye de prédire le résultat des données de test",
      "execution_count": 7,
      "outputs": [
        {
          "output_type": "execute_result",
          "execution_count": 7,
          "data": {
            "text/plain": "array([0, 0, 1])"
          },
          "metadata": {}
        }
      ]
    },
    {
      "cell_type": "code",
      "metadata": {
        "tags": [],
        "cell_id": "00014-94750750-bf36-4bda-bdcc-16b545094bee",
        "deepnote_to_be_reexecuted": false,
        "source_hash": "841f78b9",
        "execution_millis": 52,
        "execution_start": 1618313837176,
        "deepnote_cell_type": "code"
      },
      "source": "model.score(X_test,y_test)\n#Score = précision de notre model\n#Résultat = 1 donc parfait car on a peu de données",
      "execution_count": 8,
      "outputs": [
        {
          "output_type": "execute_result",
          "execution_count": 8,
          "data": {
            "text/plain": "1.0"
          },
          "metadata": {}
        }
      ]
    },
    {
      "cell_type": "code",
      "metadata": {
        "tags": [],
        "cell_id": "00015-957297ab-424b-4eff-ac54-1b5ea0867750",
        "deepnote_to_be_reexecuted": false,
        "source_hash": "a9e6921",
        "execution_millis": 8,
        "execution_start": 1618313837220,
        "deepnote_cell_type": "code"
      },
      "source": "model.predict_proba(X_test)\n#On calcul la probabilite que notre test soit positif ou negatif  ",
      "execution_count": 9,
      "outputs": [
        {
          "output_type": "execute_result",
          "execution_count": 9,
          "data": {
            "text/plain": "array([[0.8275721 , 0.1724279 ],\n       [0.92914299, 0.07085701],\n       [0.11156004, 0.88843996]])"
          },
          "metadata": {}
        }
      ]
    },
    {
      "cell_type": "code",
      "metadata": {
        "tags": [],
        "cell_id": "00016-a60e8bb7-f0d4-4323-913e-2d5bf70bb28b",
        "deepnote_to_be_reexecuted": false,
        "source_hash": "8d9b596f",
        "execution_millis": 0,
        "execution_start": 1618313837220,
        "deepnote_cell_type": "code"
      },
      "source": "model.predict([[99]])\n#On désire connaitre la probabilité qu'une personne achète \n#une assurance en fonction de son age",
      "execution_count": 10,
      "outputs": [
        {
          "output_type": "execute_result",
          "execution_count": 10,
          "data": {
            "text/plain": "array([1])"
          },
          "metadata": {}
        }
      ]
    },
    {
      "cell_type": "markdown",
      "source": "<a style='text-decoration:none;line-height:16px;display:flex;color:#5B5B62;padding:10px;justify-content:end;' href='https://deepnote.com?utm_source=created-in-deepnote-cell&projectId=5f270f21-4f7d-4cf2-a369-59c119c52b5b' target=\"_blank\">\n<img alt='Created in deepnote.com' style='display:inline;max-height:16px;margin:0px;margin-right:7.5px;' src='data:image/svg+xml;base64,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' > </img>\nCreated in <span style='font-weight:600;margin-left:4px;'>Deepnote</span></a>",
      "metadata": {
        "tags": [],
        "created_in_deepnote_cell": true,
        "deepnote_cell_type": "markdown"
      }
    }
  ],
  "nbformat": 4,
  "nbformat_minor": 2,
  "metadata": {
    "orig_nbformat": 2,
    "deepnote_notebook_id": "74cd31eb-4ba3-405a-9960-15792b1763b8",
    "deepnote": {
      "is_reactive": false
    },
    "deepnote_execution_queue": []
  }
}